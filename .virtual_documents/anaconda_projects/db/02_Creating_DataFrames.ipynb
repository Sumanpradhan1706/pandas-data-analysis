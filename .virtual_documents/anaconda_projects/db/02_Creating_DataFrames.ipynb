import pandas as pd


data = [['harry', 34],['jill', 67],['jack', 67], ['shibham', 67]]


data


pd.DataFrame(data, columns=["Name", "Marks"])


data = {"a":[4,6,3],"b":[56,34,343]}


data


df = pd.DataFrame(data)


df


import numpy as np


arr = np.array([[1,2],[5,6]])


df = pd.DataFrame(arr, columns=["A", "B"])


df


df = pd.read_excel("data.xlsx")


df


import pandas as pd
url = "https://raw.githubusercontent.com/mwaskom/seaborn-data/master/tips.csv"
df = pd.read_csv(url)


df


df.head()


df.tail()


df.info()


df.describe()


df.columns


df.shape



