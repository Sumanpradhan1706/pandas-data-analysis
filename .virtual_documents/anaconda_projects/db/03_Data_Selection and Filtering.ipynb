import pandas as pd


df = pd.read_excel('data.xlsx')


df


df['Actor']  # Single column selection


df['Actor'][3]


df[['Actor', 'Film']] # Multiple column selection


df.loc[1]  # First row (by label)


df.iloc[1] # First row (by position)


df.loc[ 6,'Film']  # Value at row 0, column 'Name'


df.iloc[6,1]  # Value at row 0, column at index 1


df.loc[0:2 ,["Actor", "Film", "BoxOffice"]]


df.at[0,"Actor"]


df.iat[0,0]


df[df['BoxOffice']> 500]


df[(df["BoxOffice"] > 500) & (df["Year"] > 2020)]


df.query("BoxOffice > 500")


df2 = df[['Actor' , 'Film']]


df2


df2.loc[0,'Actor'] = "Suman"


df2


df


# Use df[col], .loc[], .iloc[], .at[], .iat[] to access data
# Filter with logical conditions or .query() for readable code
# Mastering selection makes the rest of pandas feel easy



