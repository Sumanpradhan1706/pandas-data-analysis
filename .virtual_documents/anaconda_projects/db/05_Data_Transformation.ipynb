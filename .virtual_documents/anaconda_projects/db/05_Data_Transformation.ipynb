import pandas as pd


df = pd.read_excel("data.xlsx")


df


df.sort_values("IMDB") # Ascending sort


df.sort_values("IMDB" , ascending =False)  # Descending


df.sort_values(["IMDB", "BoxOffice"])       # Sort by multiple columns


df2 = df.sort_values(["IMDB", "BoxOffice"]).copy()     


df2


df2.reset_index()


df2


df2.reset_index(drop=True)


df2["Rank"] = df2["IMDB"].rank(ascending=False)





df2


df = df[["Film", "Actor", "Year", "Genre", "IMDB","boxOffice"]]


df



