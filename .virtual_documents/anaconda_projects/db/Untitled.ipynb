import pandas as pd


df = pd.read_excel('data.xlsx')


df


df['Actor']  # Single column selection


df['Actor'][3]


df[['Actor', 'Film']] # Multiple column selection


df.loc[1]  # First row (by label)


df.iloc[1] # First row (by position)


df.loc[ 6,'Film']  # Value at row 0, column 'Name'


df.iloc[6,1]  # Value at row 0, column at index 1


df.loc[0:2 ,["Actor", "Film", "BoxOffice"]]


df.at[0,"Actor"]


df.iat[0,0]


df[df['BoxOffice']> 500]


df[(df["BoxOffice"] > 500) & (df["Year"] > 2020)]



