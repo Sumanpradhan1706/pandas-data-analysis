import pandas as pd


employees = pd.DataFrame({
    "EmpID": [1, 2, 3],
    "Name": ["Alice", "Bob", "Charlie"],
    "DeptID": [10, 20, 30]
})
 


employees


departments = pd.DataFrame({
    "DeptID": [10, 20, 40],
    "DeptName": ["HR", "Engineering", "Marketing"]
})


departments


pd.merge(employees, departments, on="DeptID")  #inner join




