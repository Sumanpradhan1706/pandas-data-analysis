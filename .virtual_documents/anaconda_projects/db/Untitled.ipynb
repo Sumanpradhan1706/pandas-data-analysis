import pandas as pd


df = pd.read_csv("data_cleaning_sample.csv")


df


df.isnull()  # True for NaNs


df.isnull().sum()  # Count missing per column


df.dropna()  # Drop rows with *any* missing values


df.dropna(axis =1)  # Drop columns with missing values


df.fillna(0)   # Replace NaN with 0


df["Age"].fillna(df["Age"].mean())   # Replace with mean


df.fillna(method="ffill")  # Forward fill


df.fillna(method="bfill") # Backward fill


df.duplicated()


df.drop_duplicates()


df.duplicated(subset=["Name" , "Age"])


df["Name"].str.lower()  # Converts all names to lowercase.


df["City"].str.contains("delhi", case=False) # Checks if 'delhi' is in the city name, case-insensitive.


df["Email"].str.split("@") # Outputs a pandas Series where each element is a list of strings (the split parts). This is where a Python list comes into play, but the outer object is still a pandas Series.


df2 = df.dropna().copy()


df2["Age"] = df2["Age"].astype(int)


df2


df2.info()


df


df2


df2["Age Group"] = df["Age"].apply(lambda x: "Adult" if x >= 25 else "Minor")


df2


gender_map = {"M": "Male", "F": "Female", "O":"Others"}
df2["Gender"] = df2["Gender"].map(gender_map)


df2


df["City"] = df["City"].replace({"Delhi": " New Delhi", "Mumbai": " New Mumbai"})


df



